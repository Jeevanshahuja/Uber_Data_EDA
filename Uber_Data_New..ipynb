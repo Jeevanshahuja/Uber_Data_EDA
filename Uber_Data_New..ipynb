{
 "cells": [
  {
   "cell_type": "markdown",
   "id": "7cde66fa-a4da-4a9d-a188-efbe5e4a176f",
   "metadata": {},
   "source": [
    "# PROJECT ON UBER DATASETS (2015)"
   ]
  },
  {
   "cell_type": "markdown",
   "id": "c6cadd79-2aa6-4184-a97a-f89520a78aba",
   "metadata": {},
   "source": [
    "## URL of given datasets in raw format."
   ]
  },
  {
   "cell_type": "code",
   "execution_count": 3,
   "id": "51e7db24-732e-4ddb-9799-46d0fa02dd44",
   "metadata": {
    "tags": []
   },
   "outputs": [],
   "source": [
    "url =\"https://raw.githubusercontent.com/rj-adity/PROJECT_BOOTCAMP-DS-/main/3-Uber_Data_New.csv\""
   ]
  },
  {
   "cell_type": "markdown",
   "id": "b103916b-d6b3-4504-95bf-f12250916109",
   "metadata": {},
   "source": [
    "#### Importing the libraries required for datasets."
   ]
  },
  {
   "cell_type": "code",
   "execution_count": 5,
   "id": "bf86fd4c-aecf-45e6-9310-045d12d290f4",
   "metadata": {
    "tags": []
   },
   "outputs": [],
   "source": [
    "import pandas as pd # importing pandas to convert the required datsets in form of dataframes.\n",
    "import numpy as np # importing the numpy library to deal with numerical value and array of datsets.\n",
    "from scipy.stats import zscore #to check the z score of the following numerical columns.\n",
    "from dateutil import parser # it parses the date and time column.\n",
    "from sklearn.preprocessing import StandardScaler #To scale the datsets on a huge level.\n",
    "from sklearn.cluster import DBSCAN # to perform DBSCAN to find anomalies.\n",
    "import seaborn as sns\n",
    "import matplotlib.pyplot as plt # helps in visualising data on alarge scale.\n",
    "from tabulate import tabulate #it deals with tthe tabulated value.\n",
    "from collections import Counter #to count occurence of a variable.\n"
   ]
  },
  {
   "cell_type": "markdown",
   "id": "221bba41-59a5-4c1c-acd1-ebc5be7a0018",
   "metadata": {},
   "source": [
    "**Reading the given datasets.**"
   ]
  },
  {
   "cell_type": "code",
   "execution_count": 7,
   "id": "708b19a2-8423-4f22-b9a9-f1df803d18e6",
   "metadata": {
    "tags": []
   },
   "outputs": [],
   "source": [
    "df=pd.read_csv(url) # url is mentioned above."
   ]
  },
  {
   "cell_type": "markdown",
   "id": "80e4e5cd-9739-4e35-a81e-ba703de68c15",
   "metadata": {},
   "source": [
    "**1. Display the top 5 rows.**"
   ]
  },
  {
   "cell_type": "code",
   "execution_count": 9,
   "id": "da3dcbb2-45a5-448d-82c7-5f3ea060ca87",
   "metadata": {
    "tags": []
   },
   "outputs": [
    {
     "data": {
      "text/html": [
       "<div>\n",
       "<style scoped>\n",
       "    .dataframe tbody tr th:only-of-type {\n",
       "        vertical-align: middle;\n",
       "    }\n",
       "\n",
       "    .dataframe tbody tr th {\n",
       "        vertical-align: top;\n",
       "    }\n",
       "\n",
       "    .dataframe thead th {\n",
       "        text-align: right;\n",
       "    }\n",
       "</style>\n",
       "<table border=\"1\" class=\"dataframe\">\n",
       "  <thead>\n",
       "    <tr style=\"text-align: right;\">\n",
       "      <th></th>\n",
       "      <th>pickup_dt</th>\n",
       "      <th>borough</th>\n",
       "      <th>pickups</th>\n",
       "      <th>spd</th>\n",
       "      <th>vsb</th>\n",
       "      <th>temp</th>\n",
       "      <th>dewp</th>\n",
       "      <th>slp</th>\n",
       "      <th>pcp01</th>\n",
       "      <th>pcp06</th>\n",
       "      <th>pcp24</th>\n",
       "      <th>sd</th>\n",
       "      <th>hday</th>\n",
       "    </tr>\n",
       "  </thead>\n",
       "  <tbody>\n",
       "    <tr>\n",
       "      <th>0</th>\n",
       "      <td>1/1/2015 1:00</td>\n",
       "      <td>Bronx</td>\n",
       "      <td>152.0</td>\n",
       "      <td>5.0</td>\n",
       "      <td>10.0</td>\n",
       "      <td>30.0</td>\n",
       "      <td>7.0</td>\n",
       "      <td>1023.5</td>\n",
       "      <td>0.0</td>\n",
       "      <td>0.0</td>\n",
       "      <td>0.0</td>\n",
       "      <td>0.0</td>\n",
       "      <td>Y</td>\n",
       "    </tr>\n",
       "    <tr>\n",
       "      <th>1</th>\n",
       "      <td>1/1/2015 1:00</td>\n",
       "      <td>Brooklyn</td>\n",
       "      <td>1519.0</td>\n",
       "      <td>5.0</td>\n",
       "      <td>10.0</td>\n",
       "      <td>NaN</td>\n",
       "      <td>7.0</td>\n",
       "      <td>1023.5</td>\n",
       "      <td>0.0</td>\n",
       "      <td>0.0</td>\n",
       "      <td>0.0</td>\n",
       "      <td>0.0</td>\n",
       "      <td>?</td>\n",
       "    </tr>\n",
       "    <tr>\n",
       "      <th>2</th>\n",
       "      <td>1/1/2015 1:00</td>\n",
       "      <td>EWR</td>\n",
       "      <td>0.0</td>\n",
       "      <td>5.0</td>\n",
       "      <td>10.0</td>\n",
       "      <td>30.0</td>\n",
       "      <td>7.0</td>\n",
       "      <td>1023.5</td>\n",
       "      <td>0.0</td>\n",
       "      <td>0.0</td>\n",
       "      <td>0.0</td>\n",
       "      <td>0.0</td>\n",
       "      <td>Y</td>\n",
       "    </tr>\n",
       "    <tr>\n",
       "      <th>3</th>\n",
       "      <td>1/1/2015 1:00</td>\n",
       "      <td>Manhattan</td>\n",
       "      <td>5258.0</td>\n",
       "      <td>5.0</td>\n",
       "      <td>10.0</td>\n",
       "      <td>30.0</td>\n",
       "      <td>7.0</td>\n",
       "      <td>1023.5</td>\n",
       "      <td>0.0</td>\n",
       "      <td>0.0</td>\n",
       "      <td>0.0</td>\n",
       "      <td>0.0</td>\n",
       "      <td>Y</td>\n",
       "    </tr>\n",
       "    <tr>\n",
       "      <th>4</th>\n",
       "      <td>1/1/2015 1:00</td>\n",
       "      <td>Queens</td>\n",
       "      <td>405.0</td>\n",
       "      <td>5.0</td>\n",
       "      <td>10.0</td>\n",
       "      <td>30.0</td>\n",
       "      <td>7.0</td>\n",
       "      <td>1023.5</td>\n",
       "      <td>0.0</td>\n",
       "      <td>0.0</td>\n",
       "      <td>0.0</td>\n",
       "      <td>0.0</td>\n",
       "      <td>Y</td>\n",
       "    </tr>\n",
       "  </tbody>\n",
       "</table>\n",
       "</div>"
      ],
      "text/plain": [
       "       pickup_dt    borough  pickups  spd   vsb  temp  dewp     slp  pcp01  \\\n",
       "0  1/1/2015 1:00      Bronx    152.0  5.0  10.0  30.0   7.0  1023.5    0.0   \n",
       "1  1/1/2015 1:00   Brooklyn   1519.0  5.0  10.0   NaN   7.0  1023.5    0.0   \n",
       "2  1/1/2015 1:00        EWR      0.0  5.0  10.0  30.0   7.0  1023.5    0.0   \n",
       "3  1/1/2015 1:00  Manhattan   5258.0  5.0  10.0  30.0   7.0  1023.5    0.0   \n",
       "4  1/1/2015 1:00     Queens    405.0  5.0  10.0  30.0   7.0  1023.5    0.0   \n",
       "\n",
       "   pcp06  pcp24   sd hday  \n",
       "0    0.0    0.0  0.0    Y  \n",
       "1    0.0    0.0  0.0    ?  \n",
       "2    0.0    0.0  0.0    Y  \n",
       "3    0.0    0.0  0.0    Y  \n",
       "4    0.0    0.0  0.0    Y  "
      ]
     },
     "execution_count": 9,
     "metadata": {},
     "output_type": "execute_result"
    }
   ],
   "source": [
    "df.head() #displaying the top 5 rows."
   ]
  },
  {
   "cell_type": "markdown",
   "id": "03c8881d-b080-4f6c-9301-6e32f9034395",
   "metadata": {},
   "source": [
    "**2. Display the last 5 rows.**"
   ]
  },
  {
   "cell_type": "code",
   "execution_count": 11,
   "id": "ae8e8e9e-8b74-4cff-aed1-88edba50cfb7",
   "metadata": {
    "tags": []
   },
   "outputs": [
    {
     "data": {
      "text/html": [
       "<div>\n",
       "<style scoped>\n",
       "    .dataframe tbody tr th:only-of-type {\n",
       "        vertical-align: middle;\n",
       "    }\n",
       "\n",
       "    .dataframe tbody tr th {\n",
       "        vertical-align: top;\n",
       "    }\n",
       "\n",
       "    .dataframe thead th {\n",
       "        text-align: right;\n",
       "    }\n",
       "</style>\n",
       "<table border=\"1\" class=\"dataframe\">\n",
       "  <thead>\n",
       "    <tr style=\"text-align: right;\">\n",
       "      <th></th>\n",
       "      <th>pickup_dt</th>\n",
       "      <th>borough</th>\n",
       "      <th>pickups</th>\n",
       "      <th>spd</th>\n",
       "      <th>vsb</th>\n",
       "      <th>temp</th>\n",
       "      <th>dewp</th>\n",
       "      <th>slp</th>\n",
       "      <th>pcp01</th>\n",
       "      <th>pcp06</th>\n",
       "      <th>pcp24</th>\n",
       "      <th>sd</th>\n",
       "      <th>hday</th>\n",
       "    </tr>\n",
       "  </thead>\n",
       "  <tbody>\n",
       "    <tr>\n",
       "      <th>29096</th>\n",
       "      <td>30-06-2015 23:00</td>\n",
       "      <td>EWR</td>\n",
       "      <td>0.0</td>\n",
       "      <td>7.0</td>\n",
       "      <td>10.0</td>\n",
       "      <td>75.0</td>\n",
       "      <td>65.0</td>\n",
       "      <td>1011.8</td>\n",
       "      <td>0.0</td>\n",
       "      <td>0.0</td>\n",
       "      <td>0.0</td>\n",
       "      <td>0.0</td>\n",
       "      <td>N</td>\n",
       "    </tr>\n",
       "    <tr>\n",
       "      <th>29097</th>\n",
       "      <td>30-06-2015 23:00</td>\n",
       "      <td>Manhattan</td>\n",
       "      <td>3828.0</td>\n",
       "      <td>7.0</td>\n",
       "      <td>10.0</td>\n",
       "      <td>75.0</td>\n",
       "      <td>65.0</td>\n",
       "      <td>1011.8</td>\n",
       "      <td>0.0</td>\n",
       "      <td>0.0</td>\n",
       "      <td>0.0</td>\n",
       "      <td>0.0</td>\n",
       "      <td>N</td>\n",
       "    </tr>\n",
       "    <tr>\n",
       "      <th>29098</th>\n",
       "      <td>30-06-2015 23:00</td>\n",
       "      <td>Queens</td>\n",
       "      <td>580.0</td>\n",
       "      <td>7.0</td>\n",
       "      <td>10.0</td>\n",
       "      <td>75.0</td>\n",
       "      <td>65.0</td>\n",
       "      <td>1011.8</td>\n",
       "      <td>0.0</td>\n",
       "      <td>0.0</td>\n",
       "      <td>0.0</td>\n",
       "      <td>0.0</td>\n",
       "      <td>N</td>\n",
       "    </tr>\n",
       "    <tr>\n",
       "      <th>29099</th>\n",
       "      <td>30-06-2015 23:00</td>\n",
       "      <td>Staten Island</td>\n",
       "      <td>0.0</td>\n",
       "      <td>7.0</td>\n",
       "      <td>10.0</td>\n",
       "      <td>75.0</td>\n",
       "      <td>65.0</td>\n",
       "      <td>1011.8</td>\n",
       "      <td>0.0</td>\n",
       "      <td>0.0</td>\n",
       "      <td>0.0</td>\n",
       "      <td>0.0</td>\n",
       "      <td>N</td>\n",
       "    </tr>\n",
       "    <tr>\n",
       "      <th>29100</th>\n",
       "      <td>30-06-2015 23:00</td>\n",
       "      <td>NaN</td>\n",
       "      <td>3.0</td>\n",
       "      <td>7.0</td>\n",
       "      <td>10.0</td>\n",
       "      <td>75.0</td>\n",
       "      <td>65.0</td>\n",
       "      <td>1011.8</td>\n",
       "      <td>0.0</td>\n",
       "      <td>0.0</td>\n",
       "      <td>0.0</td>\n",
       "      <td>0.0</td>\n",
       "      <td>N</td>\n",
       "    </tr>\n",
       "  </tbody>\n",
       "</table>\n",
       "</div>"
      ],
      "text/plain": [
       "              pickup_dt        borough  pickups  spd   vsb  temp  dewp  \\\n",
       "29096  30-06-2015 23:00            EWR      0.0  7.0  10.0  75.0  65.0   \n",
       "29097  30-06-2015 23:00      Manhattan   3828.0  7.0  10.0  75.0  65.0   \n",
       "29098  30-06-2015 23:00         Queens    580.0  7.0  10.0  75.0  65.0   \n",
       "29099  30-06-2015 23:00  Staten Island      0.0  7.0  10.0  75.0  65.0   \n",
       "29100  30-06-2015 23:00            NaN      3.0  7.0  10.0  75.0  65.0   \n",
       "\n",
       "          slp  pcp01  pcp06  pcp24   sd hday  \n",
       "29096  1011.8    0.0    0.0    0.0  0.0    N  \n",
       "29097  1011.8    0.0    0.0    0.0  0.0    N  \n",
       "29098  1011.8    0.0    0.0    0.0  0.0    N  \n",
       "29099  1011.8    0.0    0.0    0.0  0.0    N  \n",
       "29100  1011.8    0.0    0.0    0.0  0.0    N  "
      ]
     },
     "execution_count": 11,
     "metadata": {},
     "output_type": "execute_result"
    }
   ],
   "source": [
    "df.tail() #Displaying the last 5 rows."
   ]
  },
  {
   "cell_type": "markdown",
   "id": "f52a306f-9dc6-4a82-aa9d-623c7fc6c997",
   "metadata": {},
   "source": [
    "**3. Check the shape of datsets.**"
   ]
  },
  {
   "cell_type": "code",
   "execution_count": 13,
   "id": "ae705be7-d048-43f7-ac1c-34984df4c022",
   "metadata": {
    "tags": []
   },
   "outputs": [
    {
     "data": {
      "text/plain": [
       "(29101, 13)"
      ]
     },
     "execution_count": 13,
     "metadata": {},
     "output_type": "execute_result"
    }
   ],
   "source": [
    "df.shape # checking the shape of the given datasets."
   ]
  },
  {
   "cell_type": "markdown",
   "id": "a61926c0-5f20-41ac-b509-5b719f2d3496",
   "metadata": {},
   "source": [
    "**4. Check the datatpe of each feature.**"
   ]
  },
  {
   "cell_type": "code",
   "execution_count": 15,
   "id": "868ee652-1b8b-48e1-b55b-2c894c9b8aba",
   "metadata": {
    "tags": []
   },
   "outputs": [
    {
     "name": "stdout",
     "output_type": "stream",
     "text": [
      "<class 'pandas.core.frame.DataFrame'>\n",
      "RangeIndex: 29101 entries, 0 to 29100\n",
      "Data columns (total 13 columns):\n",
      " #   Column     Non-Null Count  Dtype  \n",
      "---  ------     --------------  -----  \n",
      " 0   pickup_dt  29101 non-null  object \n",
      " 1   borough    26058 non-null  object \n",
      " 2   pickups    29099 non-null  float64\n",
      " 3   spd        29101 non-null  float64\n",
      " 4   vsb        29101 non-null  float64\n",
      " 5   temp       28742 non-null  float64\n",
      " 6   dewp       29101 non-null  float64\n",
      " 7   slp        29101 non-null  float64\n",
      " 8   pcp01      29101 non-null  float64\n",
      " 9   pcp06      29101 non-null  float64\n",
      " 10  pcp24      29101 non-null  float64\n",
      " 11  sd         29101 non-null  float64\n",
      " 12  hday       29101 non-null  object \n",
      "dtypes: float64(10), object(3)\n",
      "memory usage: 2.9+ MB\n"
     ]
    },
    {
     "data": {
      "text/plain": [
       "pickup_dt     object\n",
       "borough       object\n",
       "pickups      float64\n",
       "spd          float64\n",
       "vsb          float64\n",
       "temp         float64\n",
       "dewp         float64\n",
       "slp          float64\n",
       "pcp01        float64\n",
       "pcp06        float64\n",
       "pcp24        float64\n",
       "sd           float64\n",
       "hday          object\n",
       "dtype: object"
      ]
     },
     "execution_count": 15,
     "metadata": {},
     "output_type": "execute_result"
    }
   ],
   "source": [
    "df.info() #check the datatypes and information baout datsets.\n",
    "df.dtypes # Checking the datatype of each feature."
   ]
  },
  {
   "cell_type": "markdown",
   "id": "021bd7d4-390f-46c2-a572-d09a02ba2469",
   "metadata": {},
   "source": [
    "**5. Check the statistical summary.**"
   ]
  },
  {
   "cell_type": "code",
   "execution_count": 17,
   "id": "9802da87-fe4d-4fcb-a214-beb86c19a4f2",
   "metadata": {
    "tags": []
   },
   "outputs": [
    {
     "data": {
      "text/html": [
       "<div>\n",
       "<style scoped>\n",
       "    .dataframe tbody tr th:only-of-type {\n",
       "        vertical-align: middle;\n",
       "    }\n",
       "\n",
       "    .dataframe tbody tr th {\n",
       "        vertical-align: top;\n",
       "    }\n",
       "\n",
       "    .dataframe thead th {\n",
       "        text-align: right;\n",
       "    }\n",
       "</style>\n",
       "<table border=\"1\" class=\"dataframe\">\n",
       "  <thead>\n",
       "    <tr style=\"text-align: right;\">\n",
       "      <th></th>\n",
       "      <th>pickups</th>\n",
       "      <th>spd</th>\n",
       "      <th>vsb</th>\n",
       "      <th>temp</th>\n",
       "      <th>dewp</th>\n",
       "      <th>slp</th>\n",
       "      <th>pcp01</th>\n",
       "      <th>pcp06</th>\n",
       "      <th>pcp24</th>\n",
       "      <th>sd</th>\n",
       "    </tr>\n",
       "  </thead>\n",
       "  <tbody>\n",
       "    <tr>\n",
       "      <th>count</th>\n",
       "      <td>29099.000000</td>\n",
       "      <td>29101.000000</td>\n",
       "      <td>29101.000000</td>\n",
       "      <td>28742.000000</td>\n",
       "      <td>29101.000000</td>\n",
       "      <td>2.910100e+04</td>\n",
       "      <td>29101.000000</td>\n",
       "      <td>29101.000000</td>\n",
       "      <td>29101.000000</td>\n",
       "      <td>29101.000000</td>\n",
       "    </tr>\n",
       "    <tr>\n",
       "      <th>mean</th>\n",
       "      <td>490.236022</td>\n",
       "      <td>5.984924</td>\n",
       "      <td>8.818125</td>\n",
       "      <td>47.900262</td>\n",
       "      <td>30.823065</td>\n",
       "      <td>1.052633e+03</td>\n",
       "      <td>0.003830</td>\n",
       "      <td>0.026129</td>\n",
       "      <td>0.090464</td>\n",
       "      <td>2.529169</td>\n",
       "    </tr>\n",
       "    <tr>\n",
       "      <th>std</th>\n",
       "      <td>995.680628</td>\n",
       "      <td>3.699007</td>\n",
       "      <td>2.442897</td>\n",
       "      <td>19.800541</td>\n",
       "      <td>21.283444</td>\n",
       "      <td>5.945147e+03</td>\n",
       "      <td>0.018933</td>\n",
       "      <td>0.093125</td>\n",
       "      <td>0.219402</td>\n",
       "      <td>4.520325</td>\n",
       "    </tr>\n",
       "    <tr>\n",
       "      <th>min</th>\n",
       "      <td>0.000000</td>\n",
       "      <td>0.000000</td>\n",
       "      <td>0.000000</td>\n",
       "      <td>0.000000</td>\n",
       "      <td>-16.000000</td>\n",
       "      <td>1.000000e+00</td>\n",
       "      <td>0.000000</td>\n",
       "      <td>0.000000</td>\n",
       "      <td>0.000000</td>\n",
       "      <td>0.000000</td>\n",
       "    </tr>\n",
       "    <tr>\n",
       "      <th>25%</th>\n",
       "      <td>1.000000</td>\n",
       "      <td>3.000000</td>\n",
       "      <td>9.100000</td>\n",
       "      <td>32.000000</td>\n",
       "      <td>14.000000</td>\n",
       "      <td>1.012500e+03</td>\n",
       "      <td>0.000000</td>\n",
       "      <td>0.000000</td>\n",
       "      <td>0.000000</td>\n",
       "      <td>0.000000</td>\n",
       "    </tr>\n",
       "    <tr>\n",
       "      <th>50%</th>\n",
       "      <td>54.000000</td>\n",
       "      <td>6.000000</td>\n",
       "      <td>10.000000</td>\n",
       "      <td>46.500000</td>\n",
       "      <td>30.000000</td>\n",
       "      <td>1.018200e+03</td>\n",
       "      <td>0.000000</td>\n",
       "      <td>0.000000</td>\n",
       "      <td>0.000000</td>\n",
       "      <td>0.000000</td>\n",
       "    </tr>\n",
       "    <tr>\n",
       "      <th>75%</th>\n",
       "      <td>449.000000</td>\n",
       "      <td>8.000000</td>\n",
       "      <td>10.000000</td>\n",
       "      <td>65.000000</td>\n",
       "      <td>50.000000</td>\n",
       "      <td>1.022900e+03</td>\n",
       "      <td>0.000000</td>\n",
       "      <td>0.000000</td>\n",
       "      <td>0.050000</td>\n",
       "      <td>2.958333</td>\n",
       "    </tr>\n",
       "    <tr>\n",
       "      <th>max</th>\n",
       "      <td>7883.000000</td>\n",
       "      <td>21.000000</td>\n",
       "      <td>10.000000</td>\n",
       "      <td>89.000000</td>\n",
       "      <td>73.000000</td>\n",
       "      <td>1.015200e+06</td>\n",
       "      <td>0.280000</td>\n",
       "      <td>1.240000</td>\n",
       "      <td>2.100000</td>\n",
       "      <td>19.000000</td>\n",
       "    </tr>\n",
       "  </tbody>\n",
       "</table>\n",
       "</div>"
      ],
      "text/plain": [
       "            pickups           spd           vsb          temp          dewp  \\\n",
       "count  29099.000000  29101.000000  29101.000000  28742.000000  29101.000000   \n",
       "mean     490.236022      5.984924      8.818125     47.900262     30.823065   \n",
       "std      995.680628      3.699007      2.442897     19.800541     21.283444   \n",
       "min        0.000000      0.000000      0.000000      0.000000    -16.000000   \n",
       "25%        1.000000      3.000000      9.100000     32.000000     14.000000   \n",
       "50%       54.000000      6.000000     10.000000     46.500000     30.000000   \n",
       "75%      449.000000      8.000000     10.000000     65.000000     50.000000   \n",
       "max     7883.000000     21.000000     10.000000     89.000000     73.000000   \n",
       "\n",
       "                slp         pcp01         pcp06         pcp24            sd  \n",
       "count  2.910100e+04  29101.000000  29101.000000  29101.000000  29101.000000  \n",
       "mean   1.052633e+03      0.003830      0.026129      0.090464      2.529169  \n",
       "std    5.945147e+03      0.018933      0.093125      0.219402      4.520325  \n",
       "min    1.000000e+00      0.000000      0.000000      0.000000      0.000000  \n",
       "25%    1.012500e+03      0.000000      0.000000      0.000000      0.000000  \n",
       "50%    1.018200e+03      0.000000      0.000000      0.000000      0.000000  \n",
       "75%    1.022900e+03      0.000000      0.000000      0.050000      2.958333  \n",
       "max    1.015200e+06      0.280000      1.240000      2.100000     19.000000  "
      ]
     },
     "execution_count": 17,
     "metadata": {},
     "output_type": "execute_result"
    }
   ],
   "source": [
    "df.describe() #the describe method will gives us the summary of numerical values containing columns."
   ]
  },
  {
   "cell_type": "code",
   "execution_count": 18,
   "id": "3620109d-cb75-4207-a0bf-8997a8a92e18",
   "metadata": {
    "tags": []
   },
   "outputs": [
    {
     "data": {
      "text/html": [
       "<div>\n",
       "<style scoped>\n",
       "    .dataframe tbody tr th:only-of-type {\n",
       "        vertical-align: middle;\n",
       "    }\n",
       "\n",
       "    .dataframe tbody tr th {\n",
       "        vertical-align: top;\n",
       "    }\n",
       "\n",
       "    .dataframe thead th {\n",
       "        text-align: right;\n",
       "    }\n",
       "</style>\n",
       "<table border=\"1\" class=\"dataframe\">\n",
       "  <thead>\n",
       "    <tr style=\"text-align: right;\">\n",
       "      <th></th>\n",
       "      <th>pickup_dt</th>\n",
       "      <th>borough</th>\n",
       "      <th>pickups</th>\n",
       "      <th>spd</th>\n",
       "      <th>vsb</th>\n",
       "      <th>temp</th>\n",
       "      <th>dewp</th>\n",
       "      <th>slp</th>\n",
       "      <th>pcp01</th>\n",
       "      <th>pcp06</th>\n",
       "      <th>pcp24</th>\n",
       "      <th>sd</th>\n",
       "      <th>hday</th>\n",
       "    </tr>\n",
       "  </thead>\n",
       "  <tbody>\n",
       "    <tr>\n",
       "      <th>count</th>\n",
       "      <td>29101</td>\n",
       "      <td>26058</td>\n",
       "      <td>29099.000000</td>\n",
       "      <td>29101.000000</td>\n",
       "      <td>29101.000000</td>\n",
       "      <td>28742.000000</td>\n",
       "      <td>29101.000000</td>\n",
       "      <td>2.910100e+04</td>\n",
       "      <td>29101.000000</td>\n",
       "      <td>29101.000000</td>\n",
       "      <td>29101.000000</td>\n",
       "      <td>29101.000000</td>\n",
       "      <td>29101</td>\n",
       "    </tr>\n",
       "    <tr>\n",
       "      <th>unique</th>\n",
       "      <td>4343</td>\n",
       "      <td>6</td>\n",
       "      <td>NaN</td>\n",
       "      <td>NaN</td>\n",
       "      <td>NaN</td>\n",
       "      <td>NaN</td>\n",
       "      <td>NaN</td>\n",
       "      <td>NaN</td>\n",
       "      <td>NaN</td>\n",
       "      <td>NaN</td>\n",
       "      <td>NaN</td>\n",
       "      <td>NaN</td>\n",
       "      <td>3</td>\n",
       "    </tr>\n",
       "    <tr>\n",
       "      <th>top</th>\n",
       "      <td>1/1/2015 1:00</td>\n",
       "      <td>Bronx</td>\n",
       "      <td>NaN</td>\n",
       "      <td>NaN</td>\n",
       "      <td>NaN</td>\n",
       "      <td>NaN</td>\n",
       "      <td>NaN</td>\n",
       "      <td>NaN</td>\n",
       "      <td>NaN</td>\n",
       "      <td>NaN</td>\n",
       "      <td>NaN</td>\n",
       "      <td>NaN</td>\n",
       "      <td>N</td>\n",
       "    </tr>\n",
       "    <tr>\n",
       "      <th>freq</th>\n",
       "      <td>7</td>\n",
       "      <td>4343</td>\n",
       "      <td>NaN</td>\n",
       "      <td>NaN</td>\n",
       "      <td>NaN</td>\n",
       "      <td>NaN</td>\n",
       "      <td>NaN</td>\n",
       "      <td>NaN</td>\n",
       "      <td>NaN</td>\n",
       "      <td>NaN</td>\n",
       "      <td>NaN</td>\n",
       "      <td>NaN</td>\n",
       "      <td>27980</td>\n",
       "    </tr>\n",
       "    <tr>\n",
       "      <th>mean</th>\n",
       "      <td>NaN</td>\n",
       "      <td>NaN</td>\n",
       "      <td>490.236022</td>\n",
       "      <td>5.984924</td>\n",
       "      <td>8.818125</td>\n",
       "      <td>47.900262</td>\n",
       "      <td>30.823065</td>\n",
       "      <td>1.052633e+03</td>\n",
       "      <td>0.003830</td>\n",
       "      <td>0.026129</td>\n",
       "      <td>0.090464</td>\n",
       "      <td>2.529169</td>\n",
       "      <td>NaN</td>\n",
       "    </tr>\n",
       "    <tr>\n",
       "      <th>std</th>\n",
       "      <td>NaN</td>\n",
       "      <td>NaN</td>\n",
       "      <td>995.680628</td>\n",
       "      <td>3.699007</td>\n",
       "      <td>2.442897</td>\n",
       "      <td>19.800541</td>\n",
       "      <td>21.283444</td>\n",
       "      <td>5.945147e+03</td>\n",
       "      <td>0.018933</td>\n",
       "      <td>0.093125</td>\n",
       "      <td>0.219402</td>\n",
       "      <td>4.520325</td>\n",
       "      <td>NaN</td>\n",
       "    </tr>\n",
       "    <tr>\n",
       "      <th>min</th>\n",
       "      <td>NaN</td>\n",
       "      <td>NaN</td>\n",
       "      <td>0.000000</td>\n",
       "      <td>0.000000</td>\n",
       "      <td>0.000000</td>\n",
       "      <td>0.000000</td>\n",
       "      <td>-16.000000</td>\n",
       "      <td>1.000000e+00</td>\n",
       "      <td>0.000000</td>\n",
       "      <td>0.000000</td>\n",
       "      <td>0.000000</td>\n",
       "      <td>0.000000</td>\n",
       "      <td>NaN</td>\n",
       "    </tr>\n",
       "    <tr>\n",
       "      <th>25%</th>\n",
       "      <td>NaN</td>\n",
       "      <td>NaN</td>\n",
       "      <td>1.000000</td>\n",
       "      <td>3.000000</td>\n",
       "      <td>9.100000</td>\n",
       "      <td>32.000000</td>\n",
       "      <td>14.000000</td>\n",
       "      <td>1.012500e+03</td>\n",
       "      <td>0.000000</td>\n",
       "      <td>0.000000</td>\n",
       "      <td>0.000000</td>\n",
       "      <td>0.000000</td>\n",
       "      <td>NaN</td>\n",
       "    </tr>\n",
       "    <tr>\n",
       "      <th>50%</th>\n",
       "      <td>NaN</td>\n",
       "      <td>NaN</td>\n",
       "      <td>54.000000</td>\n",
       "      <td>6.000000</td>\n",
       "      <td>10.000000</td>\n",
       "      <td>46.500000</td>\n",
       "      <td>30.000000</td>\n",
       "      <td>1.018200e+03</td>\n",
       "      <td>0.000000</td>\n",
       "      <td>0.000000</td>\n",
       "      <td>0.000000</td>\n",
       "      <td>0.000000</td>\n",
       "      <td>NaN</td>\n",
       "    </tr>\n",
       "    <tr>\n",
       "      <th>75%</th>\n",
       "      <td>NaN</td>\n",
       "      <td>NaN</td>\n",
       "      <td>449.000000</td>\n",
       "      <td>8.000000</td>\n",
       "      <td>10.000000</td>\n",
       "      <td>65.000000</td>\n",
       "      <td>50.000000</td>\n",
       "      <td>1.022900e+03</td>\n",
       "      <td>0.000000</td>\n",
       "      <td>0.000000</td>\n",
       "      <td>0.050000</td>\n",
       "      <td>2.958333</td>\n",
       "      <td>NaN</td>\n",
       "    </tr>\n",
       "    <tr>\n",
       "      <th>max</th>\n",
       "      <td>NaN</td>\n",
       "      <td>NaN</td>\n",
       "      <td>7883.000000</td>\n",
       "      <td>21.000000</td>\n",
       "      <td>10.000000</td>\n",
       "      <td>89.000000</td>\n",
       "      <td>73.000000</td>\n",
       "      <td>1.015200e+06</td>\n",
       "      <td>0.280000</td>\n",
       "      <td>1.240000</td>\n",
       "      <td>2.100000</td>\n",
       "      <td>19.000000</td>\n",
       "      <td>NaN</td>\n",
       "    </tr>\n",
       "  </tbody>\n",
       "</table>\n",
       "</div>"
      ],
      "text/plain": [
       "            pickup_dt borough       pickups           spd           vsb  \\\n",
       "count           29101   26058  29099.000000  29101.000000  29101.000000   \n",
       "unique           4343       6           NaN           NaN           NaN   \n",
       "top     1/1/2015 1:00   Bronx           NaN           NaN           NaN   \n",
       "freq                7    4343           NaN           NaN           NaN   \n",
       "mean              NaN     NaN    490.236022      5.984924      8.818125   \n",
       "std               NaN     NaN    995.680628      3.699007      2.442897   \n",
       "min               NaN     NaN      0.000000      0.000000      0.000000   \n",
       "25%               NaN     NaN      1.000000      3.000000      9.100000   \n",
       "50%               NaN     NaN     54.000000      6.000000     10.000000   \n",
       "75%               NaN     NaN    449.000000      8.000000     10.000000   \n",
       "max               NaN     NaN   7883.000000     21.000000     10.000000   \n",
       "\n",
       "                temp          dewp           slp         pcp01         pcp06  \\\n",
       "count   28742.000000  29101.000000  2.910100e+04  29101.000000  29101.000000   \n",
       "unique           NaN           NaN           NaN           NaN           NaN   \n",
       "top              NaN           NaN           NaN           NaN           NaN   \n",
       "freq             NaN           NaN           NaN           NaN           NaN   \n",
       "mean       47.900262     30.823065  1.052633e+03      0.003830      0.026129   \n",
       "std        19.800541     21.283444  5.945147e+03      0.018933      0.093125   \n",
       "min         0.000000    -16.000000  1.000000e+00      0.000000      0.000000   \n",
       "25%        32.000000     14.000000  1.012500e+03      0.000000      0.000000   \n",
       "50%        46.500000     30.000000  1.018200e+03      0.000000      0.000000   \n",
       "75%        65.000000     50.000000  1.022900e+03      0.000000      0.000000   \n",
       "max        89.000000     73.000000  1.015200e+06      0.280000      1.240000   \n",
       "\n",
       "               pcp24            sd   hday  \n",
       "count   29101.000000  29101.000000  29101  \n",
       "unique           NaN           NaN      3  \n",
       "top              NaN           NaN      N  \n",
       "freq             NaN           NaN  27980  \n",
       "mean        0.090464      2.529169    NaN  \n",
       "std         0.219402      4.520325    NaN  \n",
       "min         0.000000      0.000000    NaN  \n",
       "25%         0.000000      0.000000    NaN  \n",
       "50%         0.000000      0.000000    NaN  \n",
       "75%         0.050000      2.958333    NaN  \n",
       "max         2.100000     19.000000    NaN  "
      ]
     },
     "execution_count": 18,
     "metadata": {},
     "output_type": "execute_result"
    }
   ],
   "source": [
    "df.describe(include=\"all\") #include all will give us statistcal summary of all columns wether its numerical or not."
   ]
  },
  {
   "cell_type": "markdown",
   "id": "b2675da3-1723-4513-82df-561b547d601d",
   "metadata": {},
   "source": [
    "**6. Check the null values.**"
   ]
  },
  {
   "cell_type": "code",
   "execution_count": 20,
   "id": "6223076f-140d-4066-b593-13c5c60b573e",
   "metadata": {
    "tags": []
   },
   "outputs": [
    {
     "data": {
      "text/html": [
       "<div>\n",
       "<style scoped>\n",
       "    .dataframe tbody tr th:only-of-type {\n",
       "        vertical-align: middle;\n",
       "    }\n",
       "\n",
       "    .dataframe tbody tr th {\n",
       "        vertical-align: top;\n",
       "    }\n",
       "\n",
       "    .dataframe thead th {\n",
       "        text-align: right;\n",
       "    }\n",
       "</style>\n",
       "<table border=\"1\" class=\"dataframe\">\n",
       "  <thead>\n",
       "    <tr style=\"text-align: right;\">\n",
       "      <th></th>\n",
       "      <th>pickup_dt</th>\n",
       "      <th>borough</th>\n",
       "      <th>pickups</th>\n",
       "      <th>spd</th>\n",
       "      <th>vsb</th>\n",
       "      <th>temp</th>\n",
       "      <th>dewp</th>\n",
       "      <th>slp</th>\n",
       "      <th>pcp01</th>\n",
       "      <th>pcp06</th>\n",
       "      <th>pcp24</th>\n",
       "      <th>sd</th>\n",
       "      <th>hday</th>\n",
       "    </tr>\n",
       "  </thead>\n",
       "  <tbody>\n",
       "    <tr>\n",
       "      <th>0</th>\n",
       "      <td>False</td>\n",
       "      <td>False</td>\n",
       "      <td>False</td>\n",
       "      <td>False</td>\n",
       "      <td>False</td>\n",
       "      <td>False</td>\n",
       "      <td>False</td>\n",
       "      <td>False</td>\n",
       "      <td>False</td>\n",
       "      <td>False</td>\n",
       "      <td>False</td>\n",
       "      <td>False</td>\n",
       "      <td>False</td>\n",
       "    </tr>\n",
       "    <tr>\n",
       "      <th>1</th>\n",
       "      <td>False</td>\n",
       "      <td>False</td>\n",
       "      <td>False</td>\n",
       "      <td>False</td>\n",
       "      <td>False</td>\n",
       "      <td>True</td>\n",
       "      <td>False</td>\n",
       "      <td>False</td>\n",
       "      <td>False</td>\n",
       "      <td>False</td>\n",
       "      <td>False</td>\n",
       "      <td>False</td>\n",
       "      <td>False</td>\n",
       "    </tr>\n",
       "    <tr>\n",
       "      <th>2</th>\n",
       "      <td>False</td>\n",
       "      <td>False</td>\n",
       "      <td>False</td>\n",
       "      <td>False</td>\n",
       "      <td>False</td>\n",
       "      <td>False</td>\n",
       "      <td>False</td>\n",
       "      <td>False</td>\n",
       "      <td>False</td>\n",
       "      <td>False</td>\n",
       "      <td>False</td>\n",
       "      <td>False</td>\n",
       "      <td>False</td>\n",
       "    </tr>\n",
       "    <tr>\n",
       "      <th>3</th>\n",
       "      <td>False</td>\n",
       "      <td>False</td>\n",
       "      <td>False</td>\n",
       "      <td>False</td>\n",
       "      <td>False</td>\n",
       "      <td>False</td>\n",
       "      <td>False</td>\n",
       "      <td>False</td>\n",
       "      <td>False</td>\n",
       "      <td>False</td>\n",
       "      <td>False</td>\n",
       "      <td>False</td>\n",
       "      <td>False</td>\n",
       "    </tr>\n",
       "    <tr>\n",
       "      <th>4</th>\n",
       "      <td>False</td>\n",
       "      <td>False</td>\n",
       "      <td>False</td>\n",
       "      <td>False</td>\n",
       "      <td>False</td>\n",
       "      <td>False</td>\n",
       "      <td>False</td>\n",
       "      <td>False</td>\n",
       "      <td>False</td>\n",
       "      <td>False</td>\n",
       "      <td>False</td>\n",
       "      <td>False</td>\n",
       "      <td>False</td>\n",
       "    </tr>\n",
       "    <tr>\n",
       "      <th>...</th>\n",
       "      <td>...</td>\n",
       "      <td>...</td>\n",
       "      <td>...</td>\n",
       "      <td>...</td>\n",
       "      <td>...</td>\n",
       "      <td>...</td>\n",
       "      <td>...</td>\n",
       "      <td>...</td>\n",
       "      <td>...</td>\n",
       "      <td>...</td>\n",
       "      <td>...</td>\n",
       "      <td>...</td>\n",
       "      <td>...</td>\n",
       "    </tr>\n",
       "    <tr>\n",
       "      <th>29096</th>\n",
       "      <td>False</td>\n",
       "      <td>False</td>\n",
       "      <td>False</td>\n",
       "      <td>False</td>\n",
       "      <td>False</td>\n",
       "      <td>False</td>\n",
       "      <td>False</td>\n",
       "      <td>False</td>\n",
       "      <td>False</td>\n",
       "      <td>False</td>\n",
       "      <td>False</td>\n",
       "      <td>False</td>\n",
       "      <td>False</td>\n",
       "    </tr>\n",
       "    <tr>\n",
       "      <th>29097</th>\n",
       "      <td>False</td>\n",
       "      <td>False</td>\n",
       "      <td>False</td>\n",
       "      <td>False</td>\n",
       "      <td>False</td>\n",
       "      <td>False</td>\n",
       "      <td>False</td>\n",
       "      <td>False</td>\n",
       "      <td>False</td>\n",
       "      <td>False</td>\n",
       "      <td>False</td>\n",
       "      <td>False</td>\n",
       "      <td>False</td>\n",
       "    </tr>\n",
       "    <tr>\n",
       "      <th>29098</th>\n",
       "      <td>False</td>\n",
       "      <td>False</td>\n",
       "      <td>False</td>\n",
       "      <td>False</td>\n",
       "      <td>False</td>\n",
       "      <td>False</td>\n",
       "      <td>False</td>\n",
       "      <td>False</td>\n",
       "      <td>False</td>\n",
       "      <td>False</td>\n",
       "      <td>False</td>\n",
       "      <td>False</td>\n",
       "      <td>False</td>\n",
       "    </tr>\n",
       "    <tr>\n",
       "      <th>29099</th>\n",
       "      <td>False</td>\n",
       "      <td>False</td>\n",
       "      <td>False</td>\n",
       "      <td>False</td>\n",
       "      <td>False</td>\n",
       "      <td>False</td>\n",
       "      <td>False</td>\n",
       "      <td>False</td>\n",
       "      <td>False</td>\n",
       "      <td>False</td>\n",
       "      <td>False</td>\n",
       "      <td>False</td>\n",
       "      <td>False</td>\n",
       "    </tr>\n",
       "    <tr>\n",
       "      <th>29100</th>\n",
       "      <td>False</td>\n",
       "      <td>True</td>\n",
       "      <td>False</td>\n",
       "      <td>False</td>\n",
       "      <td>False</td>\n",
       "      <td>False</td>\n",
       "      <td>False</td>\n",
       "      <td>False</td>\n",
       "      <td>False</td>\n",
       "      <td>False</td>\n",
       "      <td>False</td>\n",
       "      <td>False</td>\n",
       "      <td>False</td>\n",
       "    </tr>\n",
       "  </tbody>\n",
       "</table>\n",
       "<p>29101 rows × 13 columns</p>\n",
       "</div>"
      ],
      "text/plain": [
       "       pickup_dt  borough  pickups    spd    vsb   temp   dewp    slp  pcp01  \\\n",
       "0          False    False    False  False  False  False  False  False  False   \n",
       "1          False    False    False  False  False   True  False  False  False   \n",
       "2          False    False    False  False  False  False  False  False  False   \n",
       "3          False    False    False  False  False  False  False  False  False   \n",
       "4          False    False    False  False  False  False  False  False  False   \n",
       "...          ...      ...      ...    ...    ...    ...    ...    ...    ...   \n",
       "29096      False    False    False  False  False  False  False  False  False   \n",
       "29097      False    False    False  False  False  False  False  False  False   \n",
       "29098      False    False    False  False  False  False  False  False  False   \n",
       "29099      False    False    False  False  False  False  False  False  False   \n",
       "29100      False     True    False  False  False  False  False  False  False   \n",
       "\n",
       "       pcp06  pcp24     sd   hday  \n",
       "0      False  False  False  False  \n",
       "1      False  False  False  False  \n",
       "2      False  False  False  False  \n",
       "3      False  False  False  False  \n",
       "4      False  False  False  False  \n",
       "...      ...    ...    ...    ...  \n",
       "29096  False  False  False  False  \n",
       "29097  False  False  False  False  \n",
       "29098  False  False  False  False  \n",
       "29099  False  False  False  False  \n",
       "29100  False  False  False  False  \n",
       "\n",
       "[29101 rows x 13 columns]"
      ]
     },
     "execution_count": 20,
     "metadata": {},
     "output_type": "execute_result"
    }
   ],
   "source": [
    "df.isnull() #it will provides us with the null value of column in bool type as true and false."
   ]
  },
  {
   "cell_type": "code",
   "execution_count": 21,
   "id": "9da28f23-0189-4f07-acaf-7cdd4e84d179",
   "metadata": {
    "tags": []
   },
   "outputs": [
    {
     "data": {
      "text/plain": [
       "pickup_dt       0\n",
       "borough      3043\n",
       "pickups         2\n",
       "spd             0\n",
       "vsb             0\n",
       "temp          359\n",
       "dewp            0\n",
       "slp             0\n",
       "pcp01           0\n",
       "pcp06           0\n",
       "pcp24           0\n",
       "sd              0\n",
       "hday            0\n",
       "dtype: int64"
      ]
     },
     "execution_count": 21,
     "metadata": {},
     "output_type": "execute_result"
    }
   ],
   "source": [
    "df.isnull().sum() #using sum wil give us count of the null values if present in such a column in our datasets."
   ]
  },
  {
   "cell_type": "markdown",
   "id": "68f0a100-e473-4df9-b40c-ffbfd173a5fb",
   "metadata": {},
   "source": [
    "**7. Check the duplicate values**"
   ]
  },
  {
   "cell_type": "code",
   "execution_count": 23,
   "id": "88fc515b-42ae-450f-b96b-1abe03a23980",
   "metadata": {
    "tags": []
   },
   "outputs": [
    {
     "data": {
      "text/plain": [
       "0        False\n",
       "1        False\n",
       "2        False\n",
       "3        False\n",
       "4        False\n",
       "         ...  \n",
       "29096    False\n",
       "29097    False\n",
       "29098    False\n",
       "29099    False\n",
       "29100    False\n",
       "Length: 29101, dtype: bool"
      ]
     },
     "execution_count": 23,
     "metadata": {},
     "output_type": "execute_result"
    }
   ],
   "source": [
    "df.duplicated() #it wil show us the status of duplicate value in all rows."
   ]
  },
  {
   "cell_type": "code",
   "execution_count": 24,
   "id": "ca09fd1b-4f12-4ef7-a164-3b2094bb4e7f",
   "metadata": {
    "tags": []
   },
   "outputs": [
    {
     "data": {
      "text/plain": [
       "0"
      ]
     },
     "execution_count": 24,
     "metadata": {},
     "output_type": "execute_result"
    }
   ],
   "source": [
    "#if there were to be found a duplicate value in our datsets the  we have to calcuulate it using sum function to know the cunt of the value.\n",
    "df.duplicated().sum()"
   ]
  },
  {
   "cell_type": "markdown",
   "id": "f04f650a-8ad5-471c-a84d-f5d1ef08b8c5",
   "metadata": {
    "tags": []
   },
   "source": [
    "**8. Check the anomalies or wrong entries.**"
   ]
  },
  {
   "cell_type": "code",
   "execution_count": 26,
   "id": "d60c5982-0a0c-4d52-a6fa-b0c456217279",
   "metadata": {
    "tags": []
   },
   "outputs": [
    {
     "name": "stdout",
     "output_type": "stream",
     "text": [
      "Anomalies detected in numerical columns:\n",
      "                pickup_dt    borough  pickups  spd    vsb       temp  dewp  \\\n",
      "3     2015-01-01 01:00:00  Manhattan   5258.0  5.0  10.00  30.000000   7.0   \n",
      "10    2015-01-01 02:00:00  Manhattan   4345.0  3.0  10.00  30.000000   6.0   \n",
      "17    2015-01-01 03:00:00  Manhattan   4577.0  5.0  10.00  30.000000   8.0   \n",
      "166   2015-01-02 02:00:00   Brooklyn    154.0  9.0  10.00  47.900262  16.0   \n",
      "432   2015-01-03 18:00:00  Manhattan   3550.0  7.8   2.22  35.600000  29.0   \n",
      "...                   ...        ...      ...  ...    ...        ...   ...   \n",
      "29071 2015-06-30 19:00:00  Manhattan   4585.0  5.0  10.00  80.000000  58.0   \n",
      "29078 2015-06-30 20:00:00  Manhattan   4210.0  8.0  10.00  80.000000  58.0   \n",
      "29085 2015-06-30 21:00:00  Manhattan   4313.0  7.0  10.00  76.000000  61.0   \n",
      "29091 2015-06-30 22:00:00  Manhattan   4452.0  5.0  10.00  76.000000  64.0   \n",
      "29097 2015-06-30 23:00:00  Manhattan   3828.0  7.0  10.00  75.000000  65.0   \n",
      "\n",
      "             slp   pcp01  pcp06  pcp24   sd hday  \n",
      "3         1023.5  0.0000   0.00  0.000  0.0    Y  \n",
      "10        1023.0  0.0000   0.00  0.000  0.0    Y  \n",
      "17        1022.3  0.0000   0.00  0.000  0.0    Y  \n",
      "166    1015200.0  0.0000   0.00  0.000  0.0    N  \n",
      "432       1032.7  0.0075   0.01  0.703  0.0    N  \n",
      "...          ...     ...    ...    ...  ...  ...  \n",
      "29071     1012.5  0.0000   0.00  0.000  0.0    N  \n",
      "29078     1012.4  0.0000   0.00  0.000  0.0    N  \n",
      "29085     1012.4  0.0000   0.00  0.000  0.0    N  \n",
      "29091     1011.9  0.0000   0.00  0.000  0.0    N  \n",
      "29097     1011.8  0.0000   0.00  0.000  0.0    N  \n",
      "\n",
      "[3545 rows x 13 columns]\n",
      "Anomalies detected in categorical columns:\n",
      "Empty DataFrame\n",
      "Columns: [pickup_dt, borough, pickups, spd, vsb, temp, dewp, slp, pcp01, pcp06, pcp24, sd, hday]\n",
      "Index: []\n",
      "Combined anomalies:\n",
      "                pickup_dt    borough  pickups  spd    vsb       temp  dewp  \\\n",
      "3     2015-01-01 01:00:00  Manhattan   5258.0  5.0  10.00  30.000000   7.0   \n",
      "10    2015-01-01 02:00:00  Manhattan   4345.0  3.0  10.00  30.000000   6.0   \n",
      "17    2015-01-01 03:00:00  Manhattan   4577.0  5.0  10.00  30.000000   8.0   \n",
      "166   2015-01-02 02:00:00   Brooklyn    154.0  9.0  10.00  47.900262  16.0   \n",
      "432   2015-01-03 18:00:00  Manhattan   3550.0  7.8   2.22  35.600000  29.0   \n",
      "...                   ...        ...      ...  ...    ...        ...   ...   \n",
      "29071 2015-06-30 19:00:00  Manhattan   4585.0  5.0  10.00  80.000000  58.0   \n",
      "29078 2015-06-30 20:00:00  Manhattan   4210.0  8.0  10.00  80.000000  58.0   \n",
      "29085 2015-06-30 21:00:00  Manhattan   4313.0  7.0  10.00  76.000000  61.0   \n",
      "29091 2015-06-30 22:00:00  Manhattan   4452.0  5.0  10.00  76.000000  64.0   \n",
      "29097 2015-06-30 23:00:00  Manhattan   3828.0  7.0  10.00  75.000000  65.0   \n",
      "\n",
      "             slp   pcp01  pcp06  pcp24   sd hday  \n",
      "3         1023.5  0.0000   0.00  0.000  0.0    Y  \n",
      "10        1023.0  0.0000   0.00  0.000  0.0    Y  \n",
      "17        1022.3  0.0000   0.00  0.000  0.0    Y  \n",
      "166    1015200.0  0.0000   0.00  0.000  0.0    N  \n",
      "432       1032.7  0.0075   0.01  0.703  0.0    N  \n",
      "...          ...     ...    ...    ...  ...  ...  \n",
      "29071     1012.5  0.0000   0.00  0.000  0.0    N  \n",
      "29078     1012.4  0.0000   0.00  0.000  0.0    N  \n",
      "29085     1012.4  0.0000   0.00  0.000  0.0    N  \n",
      "29091     1011.9  0.0000   0.00  0.000  0.0    N  \n",
      "29097     1011.8  0.0000   0.00  0.000  0.0    N  \n",
      "\n",
      "[3545 rows x 13 columns]\n"
     ]
    }
   ],
   "source": [
    "#first w eneed to preprocess the datasets to make it suitable for our mmethod.\n",
    "# second we need to conver pickup_dt to get in datetime format.\n",
    "# Replace '?' with NaN and handle missing values\n",
    "df.replace('?', np.nan, inplace=True)\n",
    "\n",
    "# Convert 'pickup_dt' to string if it's not already\n",
    "df['pickup_dt'] = df['pickup_dt'].astype(str)\n",
    "\n",
    "# Parse the date and time column\n",
    "df['pickup_dt'] = df['pickup_dt'].apply(lambda x: parser.parse(x, dayfirst=True))\n",
    "\n",
    "# List of numerical columns\n",
    "numerical_cols = ['pickups', 'spd', 'vsb', 'temp', 'dewp', 'slp', 'pcp01', 'pcp06', 'pcp24', 'sd']\n",
    "\n",
    "# Convert numerical columns to float (or appropriate type) if they are not already\n",
    "for col in numerical_cols:\n",
    "    df[col] = pd.to_numeric(df[col], errors='coerce')\n",
    "\n",
    "# Filling missing numerical values with the mean\n",
    "df[numerical_cols] = df[numerical_cols].fillna(df[numerical_cols].mean())\n",
    "\n",
    "# Calculate Z-scores for numerical columns\n",
    "z_scores = np.abs(zscore(df[numerical_cols]))\n",
    "\n",
    "# Set a threshold for Z-scores, typically 3 or higher indicates an anomaly\n",
    "threshold = 3\n",
    "\n",
    "# Detect anomalies based on Z-scores\n",
    "anomalies = (z_scores > threshold).any(axis=1)\n",
    "anomalous_df = df[anomalies]\n",
    "\n",
    "print(\"Anomalies detected in numerical columns:\")\n",
    "print(anomalous_df)\n",
    "\n",
    "# Frequency analysis for 'borough' column\n",
    "borough_freq = df['borough'].value_counts()\n",
    "\n",
    "# Define a threshold for rare occurrences, e.g., less than 1% of total df\n",
    "rare_threshold = 0.01 * len(df)\n",
    "\n",
    "# Detect anomalies in 'borough' column\n",
    "rare_boroughs = borough_freq[borough_freq < rare_threshold].index\n",
    "categorical_anomalies = df[df['borough'].isin(rare_boroughs)]\n",
    "\n",
    "print(\"Anomalies detected in categorical columns:\")\n",
    "print(categorical_anomalies)\n",
    "\n",
    "# Combine numerical and categorical anomalies\n",
    "combined_anomalies = pd.concat([anomalous_df, categorical_anomalies]).drop_duplicates()\n",
    "\n",
    "print(\"Combined anomalies:\")\n",
    "print(combined_anomalies)"
   ]
  },
  {
   "cell_type": "markdown",
   "id": "1e5a4e44-67f4-42fb-8975-136c72db47cf",
   "metadata": {},
   "source": [
    "**Using DBSCAN algorithm to check anomalies and outliers.**"
   ]
  },
  {
   "cell_type": "code",
   "execution_count": 28,
   "id": "6ec71f65-8ed8-47fc-b721-05f1c6a119c4",
   "metadata": {
    "tags": []
   },
   "outputs": [
    {
     "name": "stdout",
     "output_type": "stream",
     "text": [
      "Anomalies detected by DBSCAN:\n",
      "                pickup_dt    borough  pickups        spd        vsb  \\\n",
      "166   2015-01-02 02:00:00   Brooklyn    154.0   9.000000  10.000000   \n",
      "425   2015-01-03 17:00:00  Manhattan   3375.0   7.000000   5.900000   \n",
      "432   2015-01-03 18:00:00  Manhattan   3550.0   7.800000   2.220000   \n",
      "439   2015-01-03 19:00:00  Manhattan   3979.0   7.500000   1.200000   \n",
      "1859  2015-01-12 18:00:00  Manhattan   3528.0   5.200000   1.860000   \n",
      "...                   ...        ...      ...        ...        ...   \n",
      "28618 2015-06-28 00:00:00  Manhattan   7140.0  10.000000   2.666667   \n",
      "28625 2015-06-28 01:00:00  Manhattan   5401.0   9.250000   2.625000   \n",
      "28632 2015-06-28 02:00:00  Manhattan   3780.0   8.333333   2.666667   \n",
      "28639 2015-06-28 03:00:00  Manhattan   2742.0  11.250000   4.625000   \n",
      "28701 2015-06-28 12:00:00  Manhattan   2777.0   6.000000   4.000000   \n",
      "\n",
      "            temp       dewp        slp     pcp01     pcp06  pcp24        sd  \\\n",
      "166    47.900262  16.000000  1015200.0  0.000000  0.000000  0.000  0.000000   \n",
      "425    38.000000  23.000000     1033.6  0.000000  0.180833  0.703  0.000000   \n",
      "432    35.600000  29.000000     1032.7  0.007500  0.010000  0.703  0.000000   \n",
      "439    34.000000  30.000000     1032.7  0.023333  0.255833  0.713  0.000000   \n",
      "1859   37.000000  34.000000     1021.6  0.050000  0.160000  0.105  0.458333   \n",
      "...          ...        ...        ...       ...       ...    ...       ...   \n",
      "28618  60.000000  56.666667     1015.5  0.150000  0.390000  0.000  0.000000   \n",
      "28625  59.250000  56.500000     1014.2  0.140000  0.010000  0.000  0.000000   \n",
      "28632  59.333333  56.666667     1013.0  0.136667  0.010000  0.000  0.000000   \n",
      "28639  60.500000  57.500000     1012.4  0.113333  0.150000  0.000  0.000000   \n",
      "28701  63.000000  60.000000     1004.7  0.000000  0.230000  1.420  0.000000   \n",
      "\n",
      "      hday  dbscan_labels  \n",
      "166      N             -1  \n",
      "425      N             -1  \n",
      "432      N             -1  \n",
      "439      N             -1  \n",
      "1859     N             -1  \n",
      "...    ...            ...  \n",
      "28618    N             -1  \n",
      "28625    N             -1  \n",
      "28632    N             -1  \n",
      "28639    N             -1  \n",
      "28701    N             -1  \n",
      "\n",
      "[98 rows x 14 columns]\n"
     ]
    }
   ],
   "source": [
    "# Standardize the numerical columns\n",
    "scaler = StandardScaler()\n",
    "df_scaled = scaler.fit_transform(df[numerical_cols])\n",
    "\n",
    "# Apply DBSCAN\n",
    "dbscan = DBSCAN(eps=1.5, min_samples=5)\n",
    "dbscan.fit(df_scaled)\n",
    "\n",
    "# Append DBSCAN results to the dataframe\n",
    "df['dbscan_labels'] = dbscan.labels_\n",
    "\n",
    "# Anomalies are the points labeled as -1\n",
    "anomalies = df[df['dbscan_labels'] == -1]\n",
    "\n",
    "print(\"Anomalies detected by DBSCAN:\")\n",
    "print(anomalies)"
   ]
  },
  {
   "cell_type": "markdown",
   "id": "19745277-aad7-4cd0-a264-06683208b46d",
   "metadata": {},
   "source": [
    "* detcting anamolies using DBSCAN on a categorical column."
   ]
  },
  {
   "cell_type": "code",
   "execution_count": 30,
   "id": "74f3fcdc-48ab-40cb-9995-33bb34c3eaf1",
   "metadata": {
    "tags": []
   },
   "outputs": [
    {
     "name": "stdout",
     "output_type": "stream",
     "text": [
      "Anomalies detected in categorical columns:\n",
      "Empty DataFrame\n",
      "Columns: [pickup_dt, borough, pickups, spd, vsb, temp, dewp, slp, pcp01, pcp06, pcp24, sd, hday, dbscan_labels]\n",
      "Index: []\n",
      "Combined anomalies:\n",
      "                pickup_dt    borough  pickups  spd    vsb       temp  dewp  \\\n",
      "3     2015-01-01 01:00:00  Manhattan   5258.0  5.0  10.00  30.000000   7.0   \n",
      "10    2015-01-01 02:00:00  Manhattan   4345.0  3.0  10.00  30.000000   6.0   \n",
      "17    2015-01-01 03:00:00  Manhattan   4577.0  5.0  10.00  30.000000   8.0   \n",
      "166   2015-01-02 02:00:00   Brooklyn    154.0  9.0  10.00  47.900262  16.0   \n",
      "432   2015-01-03 18:00:00  Manhattan   3550.0  7.8   2.22  35.600000  29.0   \n",
      "...                   ...        ...      ...  ...    ...        ...   ...   \n",
      "29071 2015-06-30 19:00:00  Manhattan   4585.0  5.0  10.00  80.000000  58.0   \n",
      "29078 2015-06-30 20:00:00  Manhattan   4210.0  8.0  10.00  80.000000  58.0   \n",
      "29085 2015-06-30 21:00:00  Manhattan   4313.0  7.0  10.00  76.000000  61.0   \n",
      "29091 2015-06-30 22:00:00  Manhattan   4452.0  5.0  10.00  76.000000  64.0   \n",
      "29097 2015-06-30 23:00:00  Manhattan   3828.0  7.0  10.00  75.000000  65.0   \n",
      "\n",
      "             slp   pcp01  pcp06  pcp24   sd hday  dbscan_labels  \n",
      "3         1023.5  0.0000   0.00  0.000  0.0    Y            NaN  \n",
      "10        1023.0  0.0000   0.00  0.000  0.0    Y            NaN  \n",
      "17        1022.3  0.0000   0.00  0.000  0.0    Y            NaN  \n",
      "166    1015200.0  0.0000   0.00  0.000  0.0    N            NaN  \n",
      "432       1032.7  0.0075   0.01  0.703  0.0    N            NaN  \n",
      "...          ...     ...    ...    ...  ...  ...            ...  \n",
      "29071     1012.5  0.0000   0.00  0.000  0.0    N            NaN  \n",
      "29078     1012.4  0.0000   0.00  0.000  0.0    N            NaN  \n",
      "29085     1012.4  0.0000   0.00  0.000  0.0    N            NaN  \n",
      "29091     1011.9  0.0000   0.00  0.000  0.0    N            NaN  \n",
      "29097     1011.8  0.0000   0.00  0.000  0.0    N            NaN  \n",
      "\n",
      "[3545 rows x 14 columns]\n"
     ]
    }
   ],
   "source": [
    "# Frequency analysis for 'borough' column\n",
    "borough_freq = df['borough'].value_counts()\n",
    "\n",
    "# Define a threshold for rare occurrences, e.g., less than 1% of total df\n",
    "rare_threshold = 0.01 * len(df)\n",
    "\n",
    "# Detect anomalies in 'borough' column\n",
    "rare_boroughs = borough_freq[borough_freq < rare_threshold].index\n",
    "categorical_anomalies = df[df['borough'].isin(rare_boroughs)]\n",
    "\n",
    "print(\"Anomalies detected in categorical columns:\")\n",
    "print(categorical_anomalies)\n",
    "\n",
    "# Combine numerical and categorical anomalies\n",
    "combined_anomalies = pd.concat([anomalous_df, categorical_anomalies]).drop_duplicates()\n",
    "\n",
    "print(\"Combined anomalies:\")\n",
    "print(combined_anomalies)"
   ]
  },
  {
   "cell_type": "markdown",
   "id": "f6ec46de-e9e5-4869-b863-da0ed327560b",
   "metadata": {},
   "source": [
    "**9. Check the outliers and thier authenticity.**"
   ]
  },
  {
   "cell_type": "code",
   "execution_count": 32,
   "id": "719270d0-6692-48fb-8762-8b13643d4772",
   "metadata": {
    "tags": []
   },
   "outputs": [
    {
     "data": {
      "image/png": "[encoded data removed]",
      "text/plain": [
       "<Figure size 1400x800 with 1 Axes>"
      ]
     },
     "metadata": {},
     "output_type": "display_data"
    },
    {
     "name": "stdout",
     "output_type": "stream",
     "text": [
      "\n",
      "Outliers detected using IQR method:\n",
      "+---------+----------------+\n",
      "| Feature | Outliers Count |\n",
      "+---------+----------------+\n",
      "| pickups |      3498      |\n",
      "|   spd   |      451       |\n",
      "|   vsb   |      5322      |\n",
      "|  temp   |       0        |\n",
      "|  dewp   |       0        |\n",
      "|   slp   |      281       |\n",
      "|  pcp01  |      2633      |\n",
      "|  pcp06  |      5641      |\n",
      "|  pcp24  |      5016      |\n",
      "|   sd    |      6060      |\n",
      "+---------+----------------+\n"
     ]
    }
   ],
   "source": [
    "# Define a function to detect outliers using IQR\n",
    "def detect_iqr(df):\n",
    "    Q1 = df.quantile(0.25)\n",
    "    Q3 = df.quantile(0.75)\n",
    "    IQR = Q3 - Q1\n",
    "    lower_bound = Q1 - 1.5 * IQR\n",
    "    upper_bound = Q3 + 1.5 * IQR\n",
    "    outliers = (df < lower_bound) | (df > upper_bound)\n",
    "    return outliers\n",
    "\n",
    "# Identify outliers in numerical columns using IQR\n",
    "outliers_iqr = df[numerical_cols].apply(detect_iqr)\n",
    "\n",
    "# Set up the plot\n",
    "plt.figure(figsize=(14, 8))\n",
    "\n",
    "# Create the boxplot with the 'Spectral' palette\n",
    "sns.boxplot(data=df[numerical_cols], orient='h', palette='Spectral', notch=True)\n",
    "\n",
    "# Add title and labels\n",
    "plt.title('Boxplot of Numerical Columns', fontsize=20, color='darkblue', weight='bold')\n",
    "plt.xlabel('Values', fontsize=16, color='darkgreen', weight='bold')\n",
    "plt.ylabel('Features', fontsize=16, color='darkgreen', weight='bold')\n",
    "\n",
    "# Rotate x-axis labels for better readability\n",
    "plt.xticks(rotation=45, fontsize=12, color='darkred', weight='bold')\n",
    "\n",
    "# Customize y-axis labels\n",
    "plt.yticks(fontsize=12, color='darkred', weight='bold')\n",
    "\n",
    "# Add grid for better visualization of values\n",
    "plt.grid(True, linestyle='--', linewidth=0.5, alpha=0.7)\n",
    "\n",
    "# Show the plot\n",
    "plt.show()\n",
    "\n",
    "# Display the outliers found using IQR\n",
    "outlier_counts = outliers_iqr.sum()\n",
    "\n",
    "# Print outlier counts with tabulate for better formatting\n",
    "outlier_table = tabulate(outlier_counts.reset_index().values, headers=[\"Feature\", \"Outliers Count\"], tablefmt=\"pretty\")\n",
    "print(\"\\nOutliers detected using IQR method:\")\n",
    "print(outlier_table)"
   ]
  },
  {
   "cell_type": "markdown",
   "id": "319e1647-0528-4ed3-8ada-cb0bd061993d",
   "metadata": {
    "tags": []
   },
   "source": [
    "* Using a violin plot to get a better visualisation."
   ]
  },
  {
   "cell_type": "code",
   "execution_count": 34,
   "id": "d783f25f-3b57-4384-a08a-b1ea4c7d715a",
   "metadata": {
    "tags": []
   },
   "outputs": [
    {
     "data": {
      "image/png": "[encoded data removed]",
      "text/plain": [
       "<Figure size 1400x800 with 1 Axes>"
      ]
     },
     "metadata": {},
     "output_type": "display_data"
    },
    {
     "name": "stdout",
     "output_type": "stream",
     "text": [
      "\n",
      "Outliers detected using IQR method:\n",
      "+---------+----------------+\n",
      "| Feature | Outliers Count |\n",
      "+---------+----------------+\n",
      "| pickups |      3498      |\n",
      "|   spd   |      451       |\n",
      "|   vsb   |      5322      |\n",
      "|  temp   |       0        |\n",
      "|  dewp   |       0        |\n",
      "|   slp   |      281       |\n",
      "|  pcp01  |      2633      |\n",
      "|  pcp06  |      5641      |\n",
      "|  pcp24  |      5016      |\n",
      "|   sd    |      6060      |\n",
      "+---------+----------------+\n"
     ]
    }
   ],
   "source": [
    "# Set up the plot\n",
    "plt.figure(figsize=(14, 8))\n",
    "\n",
    "# Create the violin plot with the 'Spectral' palette\n",
    "sns.violinplot(data=df[numerical_cols], palette='Spectral', inner='quartile', scale='width')\n",
    "\n",
    "# Add title and labels\n",
    "plt.title('Violin Plot of Numerical Columns', fontsize=20, color='darkblue', weight='bold')\n",
    "plt.xlabel('Values', fontsize=16, color='darkgreen', weight='bold')\n",
    "plt.ylabel('Features', fontsize=16, color='darkgreen', weight='bold')\n",
    "\n",
    "# Rotate x-axis labels for better readability\n",
    "plt.xticks(rotation=45, fontsize=12, color='darkred', weight='bold')\n",
    "\n",
    "# Customize y-axis labels\n",
    "plt.yticks(fontsize=12, color='darkred', weight='bold')\n",
    "\n",
    "# Add grid for better visualization of values\n",
    "plt.grid(True, linestyle='--', linewidth=0.5, alpha=0.7)\n",
    "\n",
    "# Show the plot\n",
    "plt.show()\n",
    "\n",
    "# Define a function to detect outliers using IQR\n",
    "def detect_iqr(df):\n",
    "    Q1 = df.quantile(0.25)\n",
    "    Q3 = df.quantile(0.75)\n",
    "    IQR = Q3 - Q1\n",
    "    lower_bound = Q1 - 1.5 * IQR\n",
    "    upper_bound = Q3 + 1.5 * IQR\n",
    "    outliers = (df < lower_bound) | (df > upper_bound)\n",
    "    return outliers\n",
    "\n",
    "# Identify outliers in numerical columns using IQR\n",
    "outliers_iqr = df[numerical_cols].apply(detect_iqr)\n",
    "\n",
    "# Display the outliers found using IQR\n",
    "outlier_counts = outliers_iqr.sum()\n",
    "\n",
    "# Print outlier counts with tabulate for better formatting\n",
    "outlier_table = tabulate(outlier_counts.reset_index().values, headers=[\"Feature\", \"Outliers Count\"], tablefmt=\"pretty\")\n",
    "print(\"\\nOutliers detected using IQR method:\")\n",
    "print(outlier_table)"
   ]
  },
  {
   "cell_type": "markdown",
   "id": "04a02816-05ce-4d18-896e-0c6356f22cd4",
   "metadata": {},
   "source": [
    "**10. Do the necessary data cleaning steps like dropping duplicates, unnecessary columns, null value imputation, outliers treatment etc.**"
   ]
  },
  {
   "cell_type": "code",
   "execution_count": 36,
   "id": "754c685e-8ea6-481c-b675-d73c23607734",
   "metadata": {
    "tags": []
   },
   "outputs": [
    {
     "data": {
      "text/html": [
       "<div>\n",
       "<style scoped>\n",
       "    .dataframe tbody tr th:only-of-type {\n",
       "        vertical-align: middle;\n",
       "    }\n",
       "\n",
       "    .dataframe tbody tr th {\n",
       "        vertical-align: top;\n",
       "    }\n",
       "\n",
       "    .dataframe thead th {\n",
       "        text-align: right;\n",
       "    }\n",
       "</style>\n",
       "<table border=\"1\" class=\"dataframe\">\n",
       "  <thead>\n",
       "    <tr style=\"text-align: right;\">\n",
       "      <th></th>\n",
       "      <th>pickup_dt</th>\n",
       "      <th>borough</th>\n",
       "      <th>pickups</th>\n",
       "      <th>spd</th>\n",
       "      <th>vsb</th>\n",
       "      <th>temp</th>\n",
       "      <th>dewp</th>\n",
       "      <th>slp</th>\n",
       "      <th>pcp01</th>\n",
       "      <th>pcp06</th>\n",
       "      <th>pcp24</th>\n",
       "      <th>sd</th>\n",
       "      <th>hday</th>\n",
       "      <th>dbscan_labels</th>\n",
       "    </tr>\n",
       "  </thead>\n",
       "  <tbody>\n",
       "    <tr>\n",
       "      <th>0</th>\n",
       "      <td>2015-01-01 01:00:00</td>\n",
       "      <td>Bronx</td>\n",
       "      <td>152.0</td>\n",
       "      <td>5.0</td>\n",
       "      <td>10.0</td>\n",
       "      <td>30.000000</td>\n",
       "      <td>7.0</td>\n",
       "      <td>1023.5</td>\n",
       "      <td>0.0</td>\n",
       "      <td>0.0</td>\n",
       "      <td>0.0</td>\n",
       "      <td>0.0</td>\n",
       "      <td>Y</td>\n",
       "      <td>0</td>\n",
       "    </tr>\n",
       "    <tr>\n",
       "      <th>1</th>\n",
       "      <td>2015-01-01 01:00:00</td>\n",
       "      <td>Brooklyn</td>\n",
       "      <td>1519.0</td>\n",
       "      <td>5.0</td>\n",
       "      <td>10.0</td>\n",
       "      <td>47.900262</td>\n",
       "      <td>7.0</td>\n",
       "      <td>1023.5</td>\n",
       "      <td>0.0</td>\n",
       "      <td>0.0</td>\n",
       "      <td>0.0</td>\n",
       "      <td>0.0</td>\n",
       "      <td>NaN</td>\n",
       "      <td>0</td>\n",
       "    </tr>\n",
       "    <tr>\n",
       "      <th>2</th>\n",
       "      <td>2015-01-01 01:00:00</td>\n",
       "      <td>EWR</td>\n",
       "      <td>0.0</td>\n",
       "      <td>5.0</td>\n",
       "      <td>10.0</td>\n",
       "      <td>30.000000</td>\n",
       "      <td>7.0</td>\n",
       "      <td>1023.5</td>\n",
       "      <td>0.0</td>\n",
       "      <td>0.0</td>\n",
       "      <td>0.0</td>\n",
       "      <td>0.0</td>\n",
       "      <td>Y</td>\n",
       "      <td>0</td>\n",
       "    </tr>\n",
       "    <tr>\n",
       "      <th>3</th>\n",
       "      <td>2015-01-01 01:00:00</td>\n",
       "      <td>Manhattan</td>\n",
       "      <td>5258.0</td>\n",
       "      <td>5.0</td>\n",
       "      <td>10.0</td>\n",
       "      <td>30.000000</td>\n",
       "      <td>7.0</td>\n",
       "      <td>1023.5</td>\n",
       "      <td>0.0</td>\n",
       "      <td>0.0</td>\n",
       "      <td>0.0</td>\n",
       "      <td>0.0</td>\n",
       "      <td>Y</td>\n",
       "      <td>0</td>\n",
       "    </tr>\n",
       "    <tr>\n",
       "      <th>4</th>\n",
       "      <td>2015-01-01 01:00:00</td>\n",
       "      <td>Queens</td>\n",
       "      <td>405.0</td>\n",
       "      <td>5.0</td>\n",
       "      <td>10.0</td>\n",
       "      <td>30.000000</td>\n",
       "      <td>7.0</td>\n",
       "      <td>1023.5</td>\n",
       "      <td>0.0</td>\n",
       "      <td>0.0</td>\n",
       "      <td>0.0</td>\n",
       "      <td>0.0</td>\n",
       "      <td>Y</td>\n",
       "      <td>0</td>\n",
       "    </tr>\n",
       "    <tr>\n",
       "      <th>...</th>\n",
       "      <td>...</td>\n",
       "      <td>...</td>\n",
       "      <td>...</td>\n",
       "      <td>...</td>\n",
       "      <td>...</td>\n",
       "      <td>...</td>\n",
       "      <td>...</td>\n",
       "      <td>...</td>\n",
       "      <td>...</td>\n",
       "      <td>...</td>\n",
       "      <td>...</td>\n",
       "      <td>...</td>\n",
       "      <td>...</td>\n",
       "      <td>...</td>\n",
       "    </tr>\n",
       "    <tr>\n",
       "      <th>29096</th>\n",
       "      <td>2015-06-30 23:00:00</td>\n",
       "      <td>EWR</td>\n",
       "      <td>0.0</td>\n",
       "      <td>7.0</td>\n",
       "      <td>10.0</td>\n",
       "      <td>75.000000</td>\n",
       "      <td>65.0</td>\n",
       "      <td>1011.8</td>\n",
       "      <td>0.0</td>\n",
       "      <td>0.0</td>\n",
       "      <td>0.0</td>\n",
       "      <td>0.0</td>\n",
       "      <td>N</td>\n",
       "      <td>0</td>\n",
       "    </tr>\n",
       "    <tr>\n",
       "      <th>29097</th>\n",
       "      <td>2015-06-30 23:00:00</td>\n",
       "      <td>Manhattan</td>\n",
       "      <td>3828.0</td>\n",
       "      <td>7.0</td>\n",
       "      <td>10.0</td>\n",
       "      <td>75.000000</td>\n",
       "      <td>65.0</td>\n",
       "      <td>1011.8</td>\n",
       "      <td>0.0</td>\n",
       "      <td>0.0</td>\n",
       "      <td>0.0</td>\n",
       "      <td>0.0</td>\n",
       "      <td>N</td>\n",
       "      <td>0</td>\n",
       "    </tr>\n",
       "    <tr>\n",
       "      <th>29098</th>\n",
       "      <td>2015-06-30 23:00:00</td>\n",
       "      <td>Queens</td>\n",
       "      <td>580.0</td>\n",
       "      <td>7.0</td>\n",
       "      <td>10.0</td>\n",
       "      <td>75.000000</td>\n",
       "      <td>65.0</td>\n",
       "      <td>1011.8</td>\n",
       "      <td>0.0</td>\n",
       "      <td>0.0</td>\n",
       "      <td>0.0</td>\n",
       "      <td>0.0</td>\n",
       "      <td>N</td>\n",
       "      <td>0</td>\n",
       "    </tr>\n",
       "    <tr>\n",
       "      <th>29099</th>\n",
       "      <td>2015-06-30 23:00:00</td>\n",
       "      <td>Staten Island</td>\n",
       "      <td>0.0</td>\n",
       "      <td>7.0</td>\n",
       "      <td>10.0</td>\n",
       "      <td>75.000000</td>\n",
       "      <td>65.0</td>\n",
       "      <td>1011.8</td>\n",
       "      <td>0.0</td>\n",
       "      <td>0.0</td>\n",
       "      <td>0.0</td>\n",
       "      <td>0.0</td>\n",
       "      <td>N</td>\n",
       "      <td>0</td>\n",
       "    </tr>\n",
       "    <tr>\n",
       "      <th>29100</th>\n",
       "      <td>2015-06-30 23:00:00</td>\n",
       "      <td>NaN</td>\n",
       "      <td>3.0</td>\n",
       "      <td>7.0</td>\n",
       "      <td>10.0</td>\n",
       "      <td>75.000000</td>\n",
       "      <td>65.0</td>\n",
       "      <td>1011.8</td>\n",
       "      <td>0.0</td>\n",
       "      <td>0.0</td>\n",
       "      <td>0.0</td>\n",
       "      <td>0.0</td>\n",
       "      <td>N</td>\n",
       "      <td>0</td>\n",
       "    </tr>\n",
       "  </tbody>\n",
       "</table>\n",
       "<p>29101 rows × 14 columns</p>\n",
       "</div>"
      ],
      "text/plain": [
       "                pickup_dt        borough  pickups  spd   vsb       temp  dewp  \\\n",
       "0     2015-01-01 01:00:00          Bronx    152.0  5.0  10.0  30.000000   7.0   \n",
       "1     2015-01-01 01:00:00       Brooklyn   1519.0  5.0  10.0  47.900262   7.0   \n",
       "2     2015-01-01 01:00:00            EWR      0.0  5.0  10.0  30.000000   7.0   \n",
       "3     2015-01-01 01:00:00      Manhattan   5258.0  5.0  10.0  30.000000   7.0   \n",
       "4     2015-01-01 01:00:00         Queens    405.0  5.0  10.0  30.000000   7.0   \n",
       "...                   ...            ...      ...  ...   ...        ...   ...   \n",
       "29096 2015-06-30 23:00:00            EWR      0.0  7.0  10.0  75.000000  65.0   \n",
       "29097 2015-06-30 23:00:00      Manhattan   3828.0  7.0  10.0  75.000000  65.0   \n",
       "29098 2015-06-30 23:00:00         Queens    580.0  7.0  10.0  75.000000  65.0   \n",
       "29099 2015-06-30 23:00:00  Staten Island      0.0  7.0  10.0  75.000000  65.0   \n",
       "29100 2015-06-30 23:00:00            NaN      3.0  7.0  10.0  75.000000  65.0   \n",
       "\n",
       "          slp  pcp01  pcp06  pcp24   sd hday  dbscan_labels  \n",
       "0      1023.5    0.0    0.0    0.0  0.0    Y              0  \n",
       "1      1023.5    0.0    0.0    0.0  0.0  NaN              0  \n",
       "2      1023.5    0.0    0.0    0.0  0.0    Y              0  \n",
       "3      1023.5    0.0    0.0    0.0  0.0    Y              0  \n",
       "4      1023.5    0.0    0.0    0.0  0.0    Y              0  \n",
       "...       ...    ...    ...    ...  ...  ...            ...  \n",
       "29096  1011.8    0.0    0.0    0.0  0.0    N              0  \n",
       "29097  1011.8    0.0    0.0    0.0  0.0    N              0  \n",
       "29098  1011.8    0.0    0.0    0.0  0.0    N              0  \n",
       "29099  1011.8    0.0    0.0    0.0  0.0    N              0  \n",
       "29100  1011.8    0.0    0.0    0.0  0.0    N              0  \n",
       "\n",
       "[29101 rows x 14 columns]"
      ]
     },
     "execution_count": 36,
     "metadata": {},
     "output_type": "execute_result"
    }
   ],
   "source": [
    "df.drop_duplicates()"
   ]
  },
  {
   "cell_type": "markdown",
   "id": "e0595bc7-85cb-4e75-a49b-618e051540c0",
   "metadata": {},
   "source": [
    "* Removing  unecessary columns."
   ]
  },
  {
   "cell_type": "code",
   "execution_count": 38,
   "id": "b44a4d3b-4ee5-43e6-8bec-67cf3e2b376b",
   "metadata": {
    "tags": []
   },
   "outputs": [
    {
     "data": {
      "image/png": "[encoded data removed]",
      "text/plain": [
       "<Figure size 1000x800 with 2 Axes>"
      ]
     },
     "metadata": {},
     "output_type": "display_data"
    }
   ],
   "source": [
    "#first we will check correlation matrix for further steps.\n",
    "\n",
    "# Identify non-numeric columns\n",
    "non_numeric_cols = df.select_dtypes(exclude=['number']).columns\n",
    "\n",
    "# Drop non-numeric columns\n",
    "numeric_df = df.drop(columns=non_numeric_cols)\n",
    "\n",
    "# Convert remaining columns to numeric (if needed)\n",
    "numeric_df = numeric_df.apply(pd.to_numeric, errors='ignore')\n",
    "\n",
    "# Compute correlation matrix\n",
    "correlation_matrix = numeric_df.corr()\n",
    "\n",
    "# Visualize correlation matrix (optional)\n",
    "plt.figure(figsize=(10, 8))\n",
    "sns.heatmap(correlation_matrix, annot=True, cmap='coolwarm', fmt=\".2f\")\n",
    "plt.title('Correlation Matrix')\n",
    "plt.show()\n",
    "df.to_csv('df1.csv', index=False)"
   ]
  },
  {
   "cell_type": "code",
   "execution_count": 47,
   "id": "b08143d5-1d17-451b-93af-6855eeed7478",
   "metadata": {
    "tags": []
   },
   "outputs": [
    {
     "name": "stdout",
     "output_type": "stream",
     "text": [
      "            pickup_dt    borough  pickups  spd\n",
      "0 2015-01-01 01:00:00      Bronx    152.0  5.0\n",
      "1 2015-01-01 01:00:00   Brooklyn   1519.0  5.0\n",
      "2 2015-01-01 01:00:00        EWR      0.0  5.0\n",
      "3 2015-01-01 01:00:00  Manhattan   5258.0  5.0\n",
      "4 2015-01-01 01:00:00     Queens    405.0  5.0\n"
     ]
    }
   ],
   "source": [
    "\n",
    "# Specify columns to keep\n",
    "columns_to_keep = ['pickup_dt', 'borough', 'pickups', 'spd']\n",
    "\n",
    "# Drop unnecessary columns\n",
    "df = df[columns_to_keep]\n",
    "\n",
    "# Display the updated DataFrame\n",
    "print(df.head())"
   ]
  },
  {
   "cell_type": "markdown",
   "id": "42c7b4d2-5234-4410-a4f3-da5a964ff8fe",
   "metadata": {
    "tags": []
   },
   "source": [
    "* Null value imputation."
   ]
  },
  {
   "cell_type": "code",
   "execution_count": 41,
   "id": "81f373d8-72f6-4e10-83b7-e98d3f6b954c",
   "metadata": {
    "tags": []
   },
   "outputs": [
    {
     "name": "stdout",
     "output_type": "stream",
     "text": [
      "Index(['pickup_dt', 'borough', 'pickups', 'spd'], dtype='object')\n"
     ]
    }
   ],
   "source": [
    "print(df.columns)"
   ]
  },
  {
   "cell_type": "code",
   "execution_count": 49,
   "id": "11a558d0-d8c6-4395-943f-c178655b7ae2",
   "metadata": {
    "tags": []
   },
   "outputs": [
    {
     "name": "stdout",
     "output_type": "stream",
     "text": [
      "            pickup_dt    borough  pickups  spd\n",
      "0 2015-01-01 01:00:00      Bronx    152.0  5.0\n",
      "1 2015-01-01 01:00:00   Brooklyn   1519.0  5.0\n",
      "2 2015-01-01 01:00:00        EWR      0.0  5.0\n",
      "3 2015-01-01 01:00:00  Manhattan   5258.0  5.0\n",
      "4 2015-01-01 01:00:00     Queens    405.0  5.0\n"
     ]
    }
   ],
   "source": [
    "# Replace '?' with NaN\n",
    "df.replace('?', np.nan, inplace=True)\n",
    "\n",
    "# Impute null values for numerical columns with the mean\n",
    "numerical_cols = ['pickups', 'spd', 'pickup_dt']\n",
    "df[numerical_cols] = df[numerical_cols].fillna(df[numerical_cols].mean())\n",
    "\n",
    "# Impute null values for categorical columns with the mode\n",
    "categorical_cols = ['borough',]\n",
    "df[categorical_cols] = df[categorical_cols].fillna(df[categorical_cols].mode().iloc[0])\n",
    "\n",
    "# Display the updated DataFrame\n",
    "print(df.head())"
   ]
  },
  {
   "cell_type": "markdown",
   "id": "c293397f-acfb-4bba-8aa0-66a9d3f09af6",
   "metadata": {
    "tags": []
   },
   "source": [
    "* Treating outliers in our datasets."
   ]
  },
  {
   "cell_type": "markdown",
   "id": "086d1898-e729-46c7-89e3-215831e7654c",
   "metadata": {},
   "source": [
    "**1. Pickup Analysis**"
   ]
  },
  {
   "cell_type": "markdown",
   "id": "13652f6c-faf2-42e9-be9f-4644e7a3d2e8",
   "metadata": {},
   "source": [
    "*  **What is the total numbers of Uber pickups across all boroughs?**"
   ]
  },
  {
   "cell_type": "code",
   "execution_count": 63,
   "id": "bf1ae7bc-d2c9-4bfe-9366-c79ac15e94a4",
   "metadata": {
    "tags": []
   },
   "outputs": [
    {
     "name": "stdout",
     "output_type": "stream",
     "text": [
      "borough\n",
      "Bronx            7386\n",
      "Brooklyn         4343\n",
      "EWR              4343\n",
      "Manhattan        4343\n",
      "Queens           4343\n",
      "Staten Island    4343\n",
      "Name: count, dtype: int64\n",
      "Total number of Uber pickups across all boroughs: 14266358.472043712\n"
     ]
    }
   ],
   "source": [
    "# Counting occurrences of Uber pickups across all boroughs\n",
    "total_pickups = df['borough'].value_counts()\n",
    "\n",
    "# Displaying the count\n",
    "print(total_pickups)\n",
    "\n",
    "# Calculate the total number of Uber pickups across all boroughs\n",
    "total_pickups = df['pickups'].sum()\n",
    "\n",
    "# Display the total number of pickups\n",
    "print(\"Total number of Uber pickups across all boroughs:\", total_pickups)\n",
    "\n"
   ]
  },
  {
   "cell_type": "markdown",
   "id": "6ef54197-66f8-4745-a8e5-12c99ddc4d3f",
   "metadata": {},
   "source": [
    "* **Which borough has the highest average number of hourly pickups?**"
   ]
  },
  {
   "cell_type": "code",
   "execution_count": 65,
   "id": "52475a21-c4f9-4bef-896e-52be34d1dcf7",
   "metadata": {
    "tags": []
   },
   "outputs": [
    {
     "name": "stdout",
     "output_type": "stream",
     "text": [
      "Borough(s) with the highest average number of hourly pickups: ['Bronx', 'Brooklyn', 'EWR', 'Manhattan', 'Queens', 'Staten Island']\n"
     ]
    }
   ],
   "source": [
    "# Group the DataFrame by 'borough' and 'pickup_dt' hour, and calculate the average number of pickups\n",
    "hourly_avg_pickups = df.groupby(['borough', df['pickup_dt'].dt.hour])['pickups'].mean()\n",
    "\n",
    "# Find the borough with the highest average number of hourly pickups\n",
    "highest_avg_borough = hourly_avg_pickups.groupby(level=0).idxmax().reset_index()['borough']\n",
    "\n",
    "# Display the result\n",
    "print(\"Borough(s) with the highest average number of hourly pickups:\", highest_avg_borough.tolist())\n"
   ]
  },
  {
   "cell_type": "code",
   "execution_count": 67,
   "id": "8a4d9346-e9e0-4aa0-9f27-29a4cc10f5ef",
   "metadata": {
    "tags": []
   },
   "outputs": [
    {
     "name": "stdout",
     "output_type": "stream",
     "text": [
      "Number of occurrences for variable highest_avg_borough: 6\n"
     ]
    }
   ],
   "source": [
    "# Example data\n",
    "highest_avg_borough = ['Bronx', 'Brooklyn', 'Manhattan', 'Brooklyn', 'Manhattan', 'Manhattan']\n",
    "\n",
    "# Calculate the number of occurrences for the variable\n",
    "occurrences = len(highest_avg_borough)\n",
    "\n",
    "# Display the result\n",
    "print(\"Number of occurrences for variable highest_avg_borough:\", occurrences)\n"
   ]
  },
  {
   "cell_type": "code",
   "execution_count": 69,
   "id": "2ddcbd47-ea89-4c4a-a033-46639cf749c0",
   "metadata": {
    "tags": []
   },
   "outputs": [
    {
     "name": "stdout",
     "output_type": "stream",
     "text": [
      "The borough with the highest count is: Manhattan\n",
      "Number of occurrences: 3\n"
     ]
    }
   ],
   "source": [
    "highest_avg_borough = ['Bronx', 'Brooklyn', 'Manhattan', 'Brooklyn', 'Manhattan', 'Manhattan']\n",
    "\n",
    "# Use Counter to count the occurrences of each borough\n",
    "borough_counts = Counter(highest_avg_borough)\n",
    "\n",
    "# Find the borough with the highest count\n",
    "most_common_borough = borough_counts.most_common(1)[0][0]\n",
    "highest_count = borough_counts[most_common_borough]\n",
    "\n",
    "# Display the result\n",
    "print(\"The borough with the highest count is:\", most_common_borough)\n",
    "print(\"Number of occurrences:\", highest_count)"
   ]
  },
  {
   "cell_type": "markdown",
   "id": "9d7533f5-ea4b-4c67-a74b-94f40cbefd8a",
   "metadata": {
    "tags": []
   },
   "source": [
    "* **How do the number of pickups vary across different hours of the day?**"
   ]
  },
  {
   "cell_type": "code",
   "execution_count": 78,
   "id": "17a09bbc-ee6d-42ae-ae91-27f496c8380c",
   "metadata": {
    "tags": []
   },
   "outputs": [
    {
     "name": "stdout",
     "output_type": "stream",
     "text": [
      "hour\n",
      "0     7.067090e+05\n",
      "1     4.920360e+05\n",
      "2     3.194790e+05\n",
      "3     2.139880e+05\n",
      "4     1.740112e+05\n",
      "5     1.743440e+05\n",
      "6     2.311120e+05\n",
      "7     3.600540e+05\n",
      "8     5.256620e+05\n",
      "9     6.078700e+05\n",
      "10    5.509510e+05\n",
      "11    5.098480e+05\n",
      "12    5.323780e+05\n",
      "13    5.304590e+05\n",
      "14    5.577610e+05\n",
      "15    6.186840e+05\n",
      "16    6.839130e+05\n",
      "17    8.020510e+05\n",
      "18    9.320350e+05\n",
      "19    1.013258e+06\n",
      "20    9.776460e+05\n",
      "21    9.367470e+05\n",
      "22    9.284082e+05\n",
      "23    8.869540e+05\n",
      "Name: pickups, dtype: float64\n"
     ]
    }
   ],
   "source": [
    "# Extract the hour component from the 'pickup_dt' column\n",
    "df['hour'] = df['pickup_dt'].dt.hour\n",
    "\n",
    "# Group the data by hour and calculate the total number of pickups for each hour\n",
    "hourly_pickups = df.groupby('hour')['pickups'].sum()\n",
    "\n",
    "# Display the result\n",
    "print(hourly_pickups)\n"
   ]
  },
  {
   "cell_type": "markdown",
   "id": "534dd86e-acdb-416d-bf2b-b2cbbdb53021",
   "metadata": {},
   "source": [
    "* **Plotting graph to visualise it more easily and understand the variation in pickups through graphs.**"
   ]
  },
  {
   "cell_type": "code",
   "execution_count": 90,
   "id": "8ba6ed2b-4ca9-4751-ace3-43ba3d3367ff",
   "metadata": {
    "tags": []
   },
   "outputs": [
    {
     "data": {
      "image/png": "[encoded data removed]",
      "text/plain": [
       "<Figure size 1000x600 with 1 Axes>"
      ]
     },
     "metadata": {},
     "output_type": "display_data"
    }
   ],
   "source": [
    "# Data\n",
    "hours = hourly_pickups.index\n",
    "pickups = hourly_pickups.values\n",
    "\n",
    "# Plot\n",
    "plt.figure(figsize=(10, 6))\n",
    "plt.plot(hours, pickups, marker='o', color='b', linestyle='-')\n",
    "plt.title('Variation in Uber Pickups Across Different Hours')\n",
    "plt.xlabel('Hour of the Day')\n",
    "plt.ylabel('Total Pickups')\n",
    "plt.grid(True)\n",
    "plt.xticks(range(0, 24))\n",
    "plt.tight_layout()\n",
    "\n",
    "# Show plot\n",
    "plt.show()"
   ]
  },
  {
   "cell_type": "code",
   "execution_count": 86,
   "id": "3d3277e3-7c96-4ea8-8a3e-5f8e44db26ab",
   "metadata": {
    "tags": []
   },
   "outputs": [
    {
     "data": {
      "image/png": "[encoded data removed]",
      "text/plain": [
       "<Figure size 1200x600 with 1 Axes>"
      ]
     },
     "metadata": {},
     "output_type": "display_data"
    }
   ],
   "source": [
    "# Creating a vertical bar plot.\n",
    "# Set the style\n",
    "sns.set_style(\"whitegrid\")\n",
    "\n",
    "# Plot\n",
    "plt.figure(figsize=(12, 6))\n",
    "sns.barplot(x=hours, y=pickups, color='skyblue')\n",
    "plt.title('Variation in Uber Pickups Across Different Hours', fontsize=16)\n",
    "plt.xlabel('Hour of the Day', fontsize=14)\n",
    "plt.ylabel('Total Pickups', fontsize=14)\n",
    "plt.xticks(rotation=45)\n",
    "plt.tight_layout()\n",
    "\n",
    "# Show plot\n",
    "plt.show()"
   ]
  },
  {
   "cell_type": "markdown",
   "id": "9392626c-c5ee-410a-b6a0-fc4c71bf75e4",
   "metadata": {
    "tags": []
   },
   "source": [
    "* **Which day of the week has the highest number of pickups?**"
   ]
  },
  {
   "cell_type": "code",
   "execution_count": 102,
   "id": "9365318b-a498-4ff6-b1b3-b63a06379327",
   "metadata": {
    "tags": []
   },
   "outputs": [
    {
     "name": "stdout",
     "output_type": "stream",
     "text": [
      "day_of_week\n",
      "Friday       4219\n",
      "Saturday     4213\n",
      "Sunday       4204\n",
      "Thursday     4167\n",
      "Monday       4158\n",
      "Tuesday      4134\n",
      "Wednesday    4006\n",
      "Name: count, dtype: int64\n"
     ]
    }
   ],
   "source": [
    "# Extract the hour component from the 'pickup_dt' column\n",
    "df['day_of_week'] = df['pickup_dt'].dt.day_name()\n",
    "\n",
    "# Group the data by hour and calculate the total number of pickups for each hour\n",
    "daily_pickups = df['day_of_week'].value_counts()\n",
    "\n",
    "# Display the result\n",
    "print(daily_pickups)"
   ]
  },
  {
   "cell_type": "code",
   "execution_count": 113,
   "id": "02c16d5d-626f-4032-ba60-b9be7b3fc7c5",
   "metadata": {
    "tags": []
   },
   "outputs": [
    {
     "data": {
      "image/png": "[encoded data removed]",
      "text/plain": [
       "<Figure size 1000x600 with 1 Axes>"
      ]
     },
     "metadata": {},
     "output_type": "display_data"
    }
   ],
   "source": [
    "# Plot\n",
    "plt.figure(figsize=(10, 6))\n",
    "plt.plot(day_of_week, pickups, marker='o', color='b', linestyle='-')\n",
    "plt.title('Variation in Uber Pickups Across Different Days of the Week')\n",
    "plt.xlabel('Day of the Week')\n",
    "plt.ylabel('Total Pickups')\n",
    "plt.grid(True)\n",
    "plt.xticks(rotation=45)  # Rotate x-axis labels for better readability\n",
    "plt.tight_layout()\n",
    "\n",
    "# Show plot\n",
    "plt.show()\n"
   ]
  },
  {
   "cell_type": "code",
   "execution_count": 121,
   "id": "343ada2d-f7a4-4a5d-b252-8c3b22436881",
   "metadata": {
    "tags": []
   },
   "outputs": [
    {
     "data": {
      "image/png": "[encoded data removed]",
      "text/plain": [
       "<Figure size 1000x600 with 1 Axes>"
      ]
     },
     "metadata": {},
     "output_type": "display_data"
    }
   ],
   "source": [
    "# Data\n",
    "day_of_week = ['Friday', 'Saturday', 'Sunday', 'Thursday', 'Monday', 'Tuesday', 'Wednesday']\n",
    "pickups = [4219, 4213, 4204, 4167, 4158, 4134, 4006]\n",
    "\n",
    "# Plot\n",
    "plt.figure(figsize=(10, 6))\n",
    "plt.bar(day_of_week, pickups, color='skyblue')\n",
    "plt.title('Variation in Uber Pickups Across Different Days of the Week')\n",
    "plt.xlabel('Day of the Week')\n",
    "plt.ylabel('Total Pickups')\n",
    "plt.xticks(rotation=45)\n",
    "plt.tight_layout()\n",
    "\n",
    "# Show plot\n",
    "plt.show()\n"
   ]
  },
  {
   "cell_type": "code",
   "execution_count": null,
   "id": "45f50437-786c-45b4-b1a0-e303965709ca",
   "metadata": {},
   "outputs": [],
   "source": []
  }
 ],
 "metadata": {
  "kernelspec": {
   "display_name": "Python 3 (ipykernel)",
   "language": "python",
   "name": "python3"
  },
  "language_info": {
   "codemirror_mode": {
    "name": "ipython",
    "version": 3
   },
   "file_extension": ".py",
   "mimetype": "text/x-python",
   "name": "python",
   "nbconvert_exporter": "python",
   "pygments_lexer": "ipython3",
   "version": "3.11.7"
  }
 },
 "nbformat": 4,
 "nbformat_minor": 5
}
